{
 "cells": [
  {
   "cell_type": "markdown",
   "id": "f3ca19af",
   "metadata": {},
   "source": [
    "### Say \"Hello, World!\" with Python program "
   ]
  },
  {
   "cell_type": "code",
   "execution_count": 2,
   "id": "e618d151",
   "metadata": {},
   "outputs": [
    {
     "name": "stdout",
     "output_type": "stream",
     "text": [
      "Hello, World!\n"
     ]
    }
   ],
   "source": [
    "if __name__ == '__main__':\n",
    "    print(\"Hello, World!\")"
   ]
  },
  {
   "cell_type": "markdown",
   "id": "68142b8b",
   "metadata": {},
   "source": [
    "### Python If-Else"
   ]
  },
  {
   "cell_type": "code",
   "execution_count": 3,
   "id": "ddc1fbdf",
   "metadata": {},
   "outputs": [
    {
     "name": "stdout",
     "output_type": "stream",
     "text": [
      "3\n",
      "Weird\n"
     ]
    }
   ],
   "source": [
    "n=int(input())\n",
    "if n%2!=0:\n",
    "    print(\"Weird\")\n",
    "else:\n",
    "    if n>=2 and n<6:\n",
    "        print(\"Not Weird\")\n",
    "    elif n>=6 and n<20:\n",
    "        print(\"Weird\")\n",
    "    else:\n",
    "        print(\"Not Weird\")\n"
   ]
  },
  {
   "cell_type": "markdown",
   "id": "613f1373",
   "metadata": {},
   "source": [
    "### Arithmetic Operations"
   ]
  },
  {
   "cell_type": "code",
   "execution_count": 5,
   "id": "9d410f78",
   "metadata": {},
   "outputs": [
    {
     "name": "stdout",
     "output_type": "stream",
     "text": [
      "3\n",
      "2\n",
      "5\n",
      "1\n",
      "6\n"
     ]
    }
   ],
   "source": [
    "if __name__ == '__main__':\n",
    "    a = int(input())\n",
    "    b = int(input())\n",
    "   \n",
    "    print(a+b);\n",
    "    print(a-b);\n",
    "    print(a*b);"
   ]
  },
  {
   "cell_type": "markdown",
   "id": "cae7d39a",
   "metadata": {},
   "source": [
    "### Python-Division"
   ]
  },
  {
   "cell_type": "code",
   "execution_count": 6,
   "id": "88aef436",
   "metadata": {},
   "outputs": [
    {
     "name": "stdout",
     "output_type": "stream",
     "text": [
      "2\n",
      "3\n",
      "0\n",
      "0.6666666666666666\n"
     ]
    }
   ],
   "source": [
    "from __future__ import division\n",
    "\n",
    "if __name__ == '__main__':\n",
    "    \n",
    "    a = int(input())\n",
    "    b = int(input())\n",
    "    print(a//b)\n",
    "    print(float(a)/b)"
   ]
  },
  {
   "cell_type": "markdown",
   "id": "318d01c4",
   "metadata": {},
   "source": [
    "### Loops"
   ]
  },
  {
   "cell_type": "code",
   "execution_count": 12,
   "id": "25899080",
   "metadata": {},
   "outputs": [
    {
     "name": "stdout",
     "output_type": "stream",
     "text": [
      "4\n",
      "0\n",
      "1\n",
      "4\n",
      "9\n"
     ]
    }
   ],
   "source": [
    "if __name__ == '__main__':\n",
    "    n = int(input())\n",
    "    for x in range(n):\n",
    "        print(x**2)"
   ]
  },
  {
   "cell_type": "markdown",
   "id": "f90b5c3b",
   "metadata": {},
   "source": [
    "### Write a Function"
   ]
  },
  {
   "cell_type": "code",
   "execution_count": 24,
   "id": "0ace316a",
   "metadata": {},
   "outputs": [
    {
     "name": "stdout",
     "output_type": "stream",
     "text": [
      "5\n",
      "1234"
     ]
    }
   ],
   "source": [
    "if __name__ == '__main__':\n",
    "    n = int(input())\n",
    "    for i in range(1,n):  #  for i in range(n):\n",
    "        print(i,end='')   # print(i+1,end='')\n",
    "        "
   ]
  },
  {
   "cell_type": "markdown",
   "id": "8733d54b",
   "metadata": {},
   "source": [
    "### Print Function-Leap Year"
   ]
  },
  {
   "cell_type": "code",
   "execution_count": 27,
   "id": "953369df",
   "metadata": {},
   "outputs": [
    {
     "name": "stdout",
     "output_type": "stream",
     "text": [
      "2000\n"
     ]
    },
    {
     "data": {
      "text/plain": [
       "True"
      ]
     },
     "execution_count": 27,
     "metadata": {},
     "output_type": "execute_result"
    }
   ],
   "source": [
    "def leap(year):\n",
    "    leap=False\n",
    "    if year%400==0:\n",
    "        leap=True\n",
    "    elif year%4==0 and year%100!=0:\n",
    "        leap=True\n",
    "    return leap\n",
    "year=int(input())\n",
    "leap(year)"
   ]
  },
  {
   "cell_type": "markdown",
   "id": "32513797",
   "metadata": {},
   "source": [
    "### List comprehensions"
   ]
  },
  {
   "cell_type": "code",
   "execution_count": 6,
   "id": "e41aae63",
   "metadata": {},
   "outputs": [
    {
     "name": "stdout",
     "output_type": "stream",
     "text": [
      "1\n",
      "1\n",
      "1\n",
      "2\n",
      "[[0, 0, 0], [0, 0, 1], [0, 1, 0], [1, 0, 0], [1, 1, 1]]\n"
     ]
    }
   ],
   "source": [
    "if __name__ == '__main__':\n",
    "    x = int(input())\n",
    "    y = int(input())\n",
    "    z = int(input())\n",
    "    n = int(input())\n",
    "    print ([[a,b,c] for a in range(0,x+1) for b in range(0,y+1) for c in range(0,z+1) if a + b + c != n ])"
   ]
  },
  {
   "cell_type": "markdown",
   "id": "134fa111",
   "metadata": {},
   "source": [
    "### Find the runner-up score"
   ]
  },
  {
   "cell_type": "code",
   "execution_count": 1,
   "id": "458d4795",
   "metadata": {},
   "outputs": [
    {
     "name": "stdout",
     "output_type": "stream",
     "text": [
      "4\n",
      "1 2 3 4 5\n",
      "4\n"
     ]
    }
   ],
   "source": [
    "if __name__ == '__main__':\n",
    "    n = int(input())\n",
    "    arr = map(int, input().split())\n",
    "    print(sorted(list(set(arr)))[-2])"
   ]
  },
  {
   "cell_type": "code",
   "execution_count": 3,
   "id": "b2e728b4",
   "metadata": {},
   "outputs": [
    {
     "name": "stdout",
     "output_type": "stream",
     "text": [
      "4\n",
      "1 2 3 4\n",
      "3\n"
     ]
    }
   ],
   "source": [
    "def find_highscore(data, n):\n",
    "    data = sorted(data,reverse=True)\n",
    "   \n",
    "    return data[1]\n",
    "\n",
    "if __name__ == '__main__':\n",
    "        n = int(input())\n",
    "        arr = map(int, input().split(\" \"))\n",
    "        arr = list(arr)\n",
    "        print(find_highscore(arr,n))"
   ]
  },
  {
   "cell_type": "code",
   "execution_count": 2,
   "id": "30e9f8ca",
   "metadata": {},
   "outputs": [
    {
     "name": "stdout",
     "output_type": "stream",
     "text": [
      "4 \n",
      "1 2 3 4 5\n",
      "4\n"
     ]
    }
   ],
   "source": [
    "def find_highscore(data, n):\n",
    "    high_score = 0\n",
    "    data = sorted(data,reverse=True)\n",
    "    for i in range(len(data)):\n",
    "            if data[i] > data[i+1]:\n",
    "                high_score = data[i + 1]\n",
    "                break\n",
    "    return high_score\n",
    "\n",
    "if __name__ == '__main__':\n",
    "        n = int(input())\n",
    "        arr = map(int, input().split(\" \"))\n",
    "        arr = list(arr)\n",
    "        print(find_highscore(arr,n))"
   ]
  },
  {
   "cell_type": "code",
   "execution_count": 30,
   "id": "6a9c38e8",
   "metadata": {},
   "outputs": [],
   "source": [
    "l=[5,3,3,4,1]"
   ]
  },
  {
   "cell_type": "code",
   "execution_count": 31,
   "id": "3b503ceb",
   "metadata": {},
   "outputs": [
    {
     "data": {
      "text/plain": [
       "[1, 3, 3, 4, 5]"
      ]
     },
     "execution_count": 31,
     "metadata": {},
     "output_type": "execute_result"
    }
   ],
   "source": [
    "sorted(l)"
   ]
  },
  {
   "cell_type": "markdown",
   "id": "8d32ff06",
   "metadata": {},
   "source": [
    "### Running up score"
   ]
  },
  {
   "cell_type": "code",
   "execution_count": 46,
   "id": "fb04c5ed",
   "metadata": {},
   "outputs": [
    {
     "data": {
      "text/plain": [
       "[1, 3, 6, 10, 15, 21]"
      ]
     },
     "execution_count": 46,
     "metadata": {},
     "output_type": "execute_result"
    }
   ],
   "source": [
    "class Solution:\n",
    "    def runningSum(self, nums):\n",
    "        ans = [0] * len(nums)\n",
    "        ans[0] = nums[0]\n",
    "        for i in range(1, len(nums)):\n",
    "            ans[i] = ans[i-1] + nums[i]\n",
    "        return ans\n",
    "\n",
    "obj=Solution()\n",
    "obj.runningSum([1,2,3,4,5,6])"
   ]
  },
  {
   "cell_type": "markdown",
   "id": "8b71623c",
   "metadata": {},
   "source": [
    "### Shuffle the array"
   ]
  },
  {
   "cell_type": "code",
   "execution_count": 9,
   "id": "5b847eb6",
   "metadata": {},
   "outputs": [
    {
     "data": {
      "text/plain": [
       "[1, 5, 2, 5, 3, 6, 4, 7]"
      ]
     },
     "execution_count": 9,
     "metadata": {},
     "output_type": "execute_result"
    }
   ],
   "source": [
    "class Solution1:\n",
    "    def shuffle(nums,n):\n",
    "        x=nums[:n]\n",
    "        y=nums[n:]\n",
    "        new=[]\n",
    "        for i in range(n):\n",
    "            new.extend([x[i],y[i]])\n",
    "        return new\n",
    "obj1=Solution1\n",
    "obj1.shuffle([1,2,3,4,5,5,6,7],4)"
   ]
  },
  {
   "cell_type": "markdown",
   "id": "77666799",
   "metadata": {},
   "source": [
    "### Find the percentage"
   ]
  },
  {
   "cell_type": "code",
   "execution_count": 9,
   "id": "81bf3f8d",
   "metadata": {},
   "outputs": [
    {
     "name": "stdout",
     "output_type": "stream",
     "text": [
      "2\n",
      "harsha 10 10 10\n",
      "varsha 23 24 34\n",
      "harsha\n",
      "10.00\n"
     ]
    }
   ],
   "source": [
    "if __name__ == '__main__':\n",
    "    n = int(input())\n",
    "    student_marks = {}\n",
    "    for _ in range(n):\n",
    "        name, *line = input().split()\n",
    "        scores = list(map(float, line))\n",
    "        student_marks[name] = scores\n",
    "    query_name = input()\n",
    "    print(\"%.02f\" % (sum(student_marks[query_name]) / 3))\n"
   ]
  },
  {
   "cell_type": "markdown",
   "id": "605a0cde",
   "metadata": {},
   "source": [
    "### Lists"
   ]
  },
  {
   "cell_type": "code",
   "execution_count": 30,
   "id": "a9872eff",
   "metadata": {},
   "outputs": [
    {
     "name": "stdout",
     "output_type": "stream",
     "text": [
      "12\n",
      "insert 0 5\n",
      "insert 1 10\n",
      "insert 0 6\n",
      "print\n",
      "[6, 5, 10]\n",
      "remove 6\n",
      "append 9\n",
      "append 1\n",
      "sort\n",
      "print\n",
      "[1, 5, 9, 10]\n",
      "pop\n",
      "reverse\n",
      "print\n",
      "[9, 5, 1]\n"
     ]
    }
   ],
   "source": [
    "if __name__ == '__main__':\n",
    "    N = int(input())\n",
    "    Output = [];\n",
    "    for i in range(0,N):\n",
    "        n = input().split();\n",
    "        if n[0] == \"print\":\n",
    "            print(Output)\n",
    "        elif n[0] == \"insert\":\n",
    "            Output.insert(int(n[1]),int(n[2]))\n",
    "        elif n[0] == \"remove\":\n",
    "            Output.remove(int(n[1]))\n",
    "        elif n[0] == \"pop\":\n",
    "            Output.pop();\n",
    "        elif n[0] == \"append\":\n",
    "            Output.append(int(n[1]))\n",
    "        elif n[0] == \"sort\":\n",
    "            Output.sort();\n",
    "        else:\n",
    "            Output.reverse();\n"
   ]
  },
  {
   "cell_type": "markdown",
   "id": "916fa4df",
   "metadata": {},
   "source": [
    "### Tuple"
   ]
  },
  {
   "cell_type": "code",
   "execution_count": 43,
   "id": "8721338f",
   "metadata": {},
   "outputs": [
    {
     "name": "stdout",
     "output_type": "stream",
     "text": [
      "2 \n",
      "1 2 \n",
      "-3550055125485641917\n"
     ]
    }
   ],
   "source": [
    "if __name__ == '__main__':\n",
    "    n = int(input())\n",
    "    integer_list = map(int, input().split())\n",
    "    t=tuple(integer_list)\n",
    "    print(hash(t))"
   ]
  },
  {
   "cell_type": "markdown",
   "id": "a1a0486d",
   "metadata": {},
   "source": [
    "### Introduction to sets"
   ]
  },
  {
   "cell_type": "code",
   "execution_count": 44,
   "id": "24e3d190",
   "metadata": {},
   "outputs": [
    {
     "name": "stdout",
     "output_type": "stream",
     "text": [
      "3\n",
      "12 13 14 15 16\n",
      "14.0\n"
     ]
    }
   ],
   "source": [
    "def average(array):\n",
    "    # your code goes here\n",
    "    a=set(array)\n",
    "    avg=sum(a)/len(a)\n",
    "    return avg\n",
    "    \n",
    "    \n",
    "    \n",
    "if __name__ == '__main__':\n",
    "    n = int(input())\n",
    "    arr = list(map(int, input().split()))\n",
    "    result = average(arr)\n",
    "    print(result)"
   ]
  },
  {
   "cell_type": "markdown",
   "id": "b20a57c8",
   "metadata": {},
   "source": [
    "### No Idea"
   ]
  },
  {
   "cell_type": "code",
   "execution_count": 45,
   "id": "f10b3ce9",
   "metadata": {},
   "outputs": [
    {
     "name": "stdout",
     "output_type": "stream",
     "text": [
      "3 2\n",
      "1 5 3\n",
      "3 1 \n",
      "5 7\n",
      "1\n"
     ]
    }
   ],
   "source": [
    "io = input().split()\n",
    "m = int(io[0])\n",
    "n = int(io[1])\n",
    "\n",
    "storage = list()\n",
    "count = 0\n",
    "\n",
    "storage = list(map(int, input().strip().split()))\n",
    "\n",
    "A = set(map(int, input().strip().split()))\n",
    "B = set(map(int, input().strip().split()))\n",
    "\n",
    "for i in storage:\n",
    "    if i in A:\n",
    "        count = count+1\n",
    "    if i in B:\n",
    "        count = count-1\n",
    "\n",
    "print(count)"
   ]
  },
  {
   "cell_type": "markdown",
   "id": "4faecb44",
   "metadata": {},
   "source": [
    "### Symmetric Differences "
   ]
  },
  {
   "cell_type": "code",
   "execution_count": 51,
   "id": "541c4b14",
   "metadata": {},
   "outputs": [
    {
     "name": "stdout",
     "output_type": "stream",
     "text": [
      "4\n",
      "1 2 3 4 \n",
      "5\n",
      "1 2 3 4 5\n",
      "5\n"
     ]
    }
   ],
   "source": [
    "M = int(input())\n",
    "mset = set(map(int, input().split()))\n",
    "N = int(input())\n",
    "nset = set(map(int, input().split()))\n",
    "\n",
    "mdef = mset.difference(nset)\n",
    "ndef = nset.difference(mset)\n",
    "\n",
    "output = mdef.union(ndef)\n",
    "\n",
    "for i in sorted(list(output)):\n",
    "    print(i)"
   ]
  },
  {
   "cell_type": "markdown",
   "id": "f0b4a2ca",
   "metadata": {},
   "source": [
    "### Set.add()"
   ]
  },
  {
   "cell_type": "code",
   "execution_count": 65,
   "id": "fa4b8648",
   "metadata": {},
   "outputs": [
    {
     "name": "stdout",
     "output_type": "stream",
     "text": [
      "2\n",
      "jdhf\n",
      "jhdjf\n",
      "2\n"
     ]
    }
   ],
   "source": [
    "n=int(input())\n",
    "countries=set()\n",
    "for i in range(n):\n",
    "    countries.add(input())\n",
    "print(len(countries))"
   ]
  },
  {
   "cell_type": "markdown",
   "id": "e3a4abe7",
   "metadata": {},
   "source": [
    "### Set.Discard() & remove() & pop()"
   ]
  },
  {
   "cell_type": "code",
   "execution_count": 66,
   "id": "346174f5",
   "metadata": {},
   "outputs": [
    {
     "name": "stdout",
     "output_type": "stream",
     "text": [
      "3\n",
      "1 2 3 3\n",
      "3\n",
      "remove 1\n",
      "discard 4\n",
      "pop\n",
      "3\n"
     ]
    }
   ],
   "source": [
    "n = int(input())\n",
    "s = set(map(int, input().split()))\n",
    "num = int(input())\n",
    "for i in range(num):\n",
    "    ip = input().split()\n",
    "    if ip[0]==\"remove\":\n",
    "        s.remove(int(ip[1]))\n",
    "    elif ip[0]==\"discard\":\n",
    "        s.discard(int(ip[1]))\n",
    "    else :\n",
    "        s.pop()\n",
    "print(sum(list(s)))"
   ]
  },
  {
   "cell_type": "markdown",
   "id": "0b9c9ee7",
   "metadata": {},
   "source": [
    "### Set.union()"
   ]
  },
  {
   "cell_type": "code",
   "execution_count": 77,
   "id": "a87a6eca",
   "metadata": {},
   "outputs": [
    {
     "name": "stdout",
     "output_type": "stream",
     "text": [
      "2\n",
      "1 2 \n",
      "2\n",
      "3 4\n",
      "4\n"
     ]
    }
   ],
   "source": [
    "N=int(input())\n",
    "m=set(input().split())\n",
    "M=int(input())\n",
    "n=set(input().split())\n",
    "l=m.union(n)\n",
    "print(len(l))"
   ]
  },
  {
   "cell_type": "markdown",
   "id": "9e587ce6",
   "metadata": {},
   "source": [
    "### Set Intersection()"
   ]
  },
  {
   "cell_type": "code",
   "execution_count": 78,
   "id": "4ae274b2",
   "metadata": {},
   "outputs": [
    {
     "name": "stdout",
     "output_type": "stream",
     "text": [
      "2\n",
      "1 2\n",
      "2 \n",
      "3 2\n",
      "1\n"
     ]
    }
   ],
   "source": [
    "N=int(input())\n",
    "m=set(input().split())\n",
    "M=int(input())\n",
    "n=set(input().split())\n",
    "l=m.intersection(n)\n",
    "print(len(l))"
   ]
  },
  {
   "cell_type": "markdown",
   "id": "358d8941",
   "metadata": {},
   "source": [
    "### Set Difference"
   ]
  },
  {
   "cell_type": "code",
   "execution_count": 79,
   "id": "622f4029",
   "metadata": {},
   "outputs": [
    {
     "name": "stdout",
     "output_type": "stream",
     "text": [
      "2 \n",
      "1 2\n",
      "2\n",
      "1 23\n",
      "1\n"
     ]
    }
   ],
   "source": [
    "N=int(input())\n",
    "m=set(input().split())\n",
    "M=int(input())\n",
    "n=set(input().split())\n",
    "l=m.difference(n)\n",
    "print(len(l))"
   ]
  },
  {
   "cell_type": "markdown",
   "id": "09c4a1ec",
   "metadata": {},
   "source": [
    "### Set symmetric_difference"
   ]
  },
  {
   "cell_type": "code",
   "execution_count": 80,
   "id": "3016b524",
   "metadata": {},
   "outputs": [
    {
     "name": "stdout",
     "output_type": "stream",
     "text": [
      "2 \n",
      "1 2\n",
      "3 \n",
      "1 2 3\n",
      "1\n"
     ]
    }
   ],
   "source": [
    "N=int(input())\n",
    "m=set(input().split())\n",
    "M=int(input())\n",
    "n=set(input().split())\n",
    "l=m.symmetric_difference(n)\n",
    "print(len(l))"
   ]
  },
  {
   "cell_type": "markdown",
   "id": "24a515da",
   "metadata": {},
   "source": [
    "### Set Mutations"
   ]
  },
  {
   "cell_type": "code",
   "execution_count": 81,
   "id": "8a5a281c",
   "metadata": {},
   "outputs": [
    {
     "name": "stdout",
     "output_type": "stream",
     "text": [
      "5\n",
      "1 2 3 4 5\n",
      "2\n",
      "intersection_update 10\n",
      "2 3 5 6 8 9 1 4 7 11\n",
      "update 2\n",
      "55 66\n",
      "136\n"
     ]
    }
   ],
   "source": [
    "len_set = int(input())\n",
    "\n",
    "storage = set(map(int, input().split()))\n",
    "\n",
    "op_len = int(input())\n",
    "\n",
    "for i in range(op_len):\n",
    "    operation = input().split()\n",
    "    if operation[0] == 'intersection_update':\n",
    "        temp_storage = set(map(int, input().split()))\n",
    "        storage.intersection_update(temp_storage)\n",
    "    elif operation[0] == 'update':\n",
    "        temp_storage = set(map(int, input().split()))\n",
    "        storage.update(temp_storage)\n",
    "    elif operation[0] == 'symmetric_difference_update':\n",
    "        temp_storage = set(map(int, input().split()))\n",
    "        storage.symmetric_difference_update(temp_storage)\n",
    "    elif operation[0] == 'difference_update':\n",
    "        temp_storage = set(map(int, input().split()))\n",
    "        storage.difference_update(temp_storage)\n",
    "    else :\n",
    "        assert False\n",
    "\n",
    "print(sum(storage))"
   ]
  },
  {
   "cell_type": "markdown",
   "id": "f35c26a8",
   "metadata": {},
   "source": [
    "### Captain room"
   ]
  },
  {
   "cell_type": "code",
   "execution_count": 7,
   "id": "3991411a",
   "metadata": {},
   "outputs": [
    {
     "name": "stdout",
     "output_type": "stream",
     "text": [
      "1,1,2,3,4,3,2,4,5,6,5,7,6,7,8,9,9\n",
      "8\n"
     ]
    }
   ],
   "source": [
    "l =input()\n",
    "for value in l:\n",
    "    if l.count(value) == 1:\n",
    "        print(value)"
   ]
  },
  {
   "cell_type": "code",
   "execution_count": 15,
   "id": "5cc5329b",
   "metadata": {},
   "outputs": [
    {
     "name": "stdout",
     "output_type": "stream",
     "text": [
      "1\n",
      "2 3 4 5 5 4 3\n",
      "2\n"
     ]
    }
   ],
   "source": [
    "N = int(input())\n",
    "\n",
    "storage = map(int, input().split())\n",
    "storage = sorted(storage)\n",
    "\n",
    "for i in range(len(storage)):\n",
    "    if(i != len(storage)-1):\n",
    "        if(storage[i]!=storage[i-1] and storage[i]!=storage[i+1]):\n",
    "            print(storage[i])\n",
    "            break;\n",
    "    else:\n",
    "        print(storage[i])"
   ]
  },
  {
   "cell_type": "markdown",
   "id": "32f13b59",
   "metadata": {},
   "source": [
    "### Check subset "
   ]
  },
  {
   "cell_type": "code",
   "execution_count": 18,
   "id": "bd0c30b6",
   "metadata": {},
   "outputs": [
    {
     "name": "stdout",
     "output_type": "stream",
     "text": [
      "1\n",
      "1\n",
      "1 2 3\n",
      "2\n",
      "2 3 4\n",
      "False\n"
     ]
    }
   ],
   "source": [
    "n = int(input())\n",
    "\n",
    "for i in range(n):\n",
    "    a = input()\n",
    "    A = set(input().split())\n",
    "    b = input()\n",
    "    B = set(input().split())\n",
    "    print(A.issubset(B))"
   ]
  },
  {
   "cell_type": "markdown",
   "id": "9f2fff98",
   "metadata": {},
   "source": [
    "### Check superset"
   ]
  },
  {
   "cell_type": "code",
   "execution_count": 17,
   "id": "cd81f873",
   "metadata": {},
   "outputs": [
    {
     "name": "stdout",
     "output_type": "stream",
     "text": [
      "1 2 3 4 5 6 7 8 9 10 11 12 23 45 84 78\n",
      "2\n",
      "1 2 3 4 5\n",
      "100 10 11 12\n",
      "False\n"
     ]
    }
   ],
   "source": [
    "storage = set(input().split())\n",
    "N = int(input())\n",
    "output = True\n",
    "\n",
    "for i in range(N):\n",
    "    storage2 = set(input().split())\n",
    "    if not storage2.issubset(storage):\n",
    "        output = False\n",
    "    if len(storage2) >= len(storage):\n",
    "        output = False\n",
    "\n",
    "print(output)"
   ]
  },
  {
   "cell_type": "markdown",
   "id": "ff748e42",
   "metadata": {},
   "source": [
    "### Polar cordinates"
   ]
  },
  {
   "cell_type": "code",
   "execution_count": 1,
   "id": "a89fc1a4",
   "metadata": {},
   "outputs": [
    {
     "name": "stdout",
     "output_type": "stream",
     "text": [
      "2\n",
      "2.0\n",
      "0.0\n"
     ]
    }
   ],
   "source": [
    "import cmath;\n",
    "\n",
    "num = complex(input())\n",
    "z = complex(num)\n",
    "\n",
    "print(cmath.polar(z)[0])\n",
    "print(cmath.polar(z)[1])"
   ]
  },
  {
   "cell_type": "markdown",
   "id": "f3d69717",
   "metadata": {},
   "source": [
    "### Find angle MBC"
   ]
  },
  {
   "cell_type": "code",
   "execution_count": 7,
   "id": "84764850",
   "metadata": {},
   "outputs": [
    {
     "name": "stdout",
     "output_type": "stream",
     "text": [
      "4\n",
      "6\n",
      "34°\n"
     ]
    }
   ],
   "source": [
    "import math\n",
    "AB,BC=int(input()),int(input())\n",
    "hype=math.hypot(AB,BC)                      #to calculate hypotenuse\n",
    "res=round(math.degrees(math.acos(BC/hype))) #to calculate required angle \n",
    "degree=chr(176)                                #for DEGREE symbol\n",
    "print(res,degree, sep='')"
   ]
  },
  {
   "cell_type": "code",
   "execution_count": 8,
   "id": "b1279cd6",
   "metadata": {},
   "outputs": [
    {
     "name": "stdout",
     "output_type": "stream",
     "text": [
      "4\n",
      "6\n",
      "34°\n"
     ]
    }
   ],
   "source": [
    "import math\n",
    "\n",
    "AB = int(input())\n",
    "BC = int(input())\n",
    "\n",
    "H = math.sqrt(AB**2 + BC**2)\n",
    "H = H/2.0\n",
    "adj = BC/2.0\n",
    "\n",
    "Output = int(round(math.degrees(math.acos(adj/H))))\n",
    "\n",
    "Output = str(Output)\n",
    "\n",
    "print(Output+\"°\")"
   ]
  },
  {
   "cell_type": "markdown",
   "id": "9f64dd49",
   "metadata": {},
   "source": [
    "### Triangle Quest"
   ]
  },
  {
   "cell_type": "code",
   "execution_count": null,
   "id": "969e4e05",
   "metadata": {},
   "outputs": [],
   "source": [
    "# for i in range(1,int(input())+1): #More than 2 lines will result in 0 score. Do not leave a blank line also\n",
    "#     print((10**i//9)**2) \n",
    "#     for i in range(1,int(input())):\n",
    "# #     print(int(i*(10**i)/9))"
   ]
  },
  {
   "cell_type": "markdown",
   "id": "e4909e69",
   "metadata": {},
   "source": [
    "### Power mod"
   ]
  },
  {
   "cell_type": "code",
   "execution_count": null,
   "id": "26bf24b0",
   "metadata": {},
   "outputs": [],
   "source": [
    "# a = int(input())\n",
    "# b = int(input())\n",
    "# m = int(input())\n",
    "\n",
    "# print(pow(a,b))\n",
    "\n",
    "# print(pow(a,b,m))"
   ]
  },
  {
   "cell_type": "markdown",
   "id": "e36dbbd9",
   "metadata": {},
   "source": [
    "### Swap case"
   ]
  },
  {
   "cell_type": "code",
   "execution_count": 18,
   "id": "fe876f69",
   "metadata": {},
   "outputs": [],
   "source": [
    "def swap(s):\n",
    "    x=''\n",
    "    for i in s:\n",
    "        if i.isupper():\n",
    "            x+=(i.lower())\n",
    "        else:\n",
    "            x+=(i.upper())\n",
    "    return x"
   ]
  },
  {
   "cell_type": "code",
   "execution_count": 19,
   "id": "265103d0",
   "metadata": {},
   "outputs": [
    {
     "data": {
      "text/plain": [
       "'hACKERrANK'"
      ]
     },
     "execution_count": 19,
     "metadata": {},
     "output_type": "execute_result"
    }
   ],
   "source": [
    "swap('HackerRank')"
   ]
  },
  {
   "cell_type": "markdown",
   "id": "6f12755e",
   "metadata": {},
   "source": [
    "### String split and join"
   ]
  },
  {
   "cell_type": "code",
   "execution_count": 20,
   "id": "f328624e",
   "metadata": {},
   "outputs": [
    {
     "name": "stdout",
     "output_type": "stream",
     "text": [
      "dfgfdhj gfhtfghrtf fdhghj\n",
      "dfgfdhj-gfhtfghrtf-fdhghj\n"
     ]
    }
   ],
   "source": [
    "def split_and_join(line):\n",
    "    # write your code here\n",
    "    line1=line.split(\" \")\n",
    "    line= \"-\".join(line1)\n",
    "    return line\n",
    "\n",
    "if __name__ == '__main__':\n",
    "    line = input()\n",
    "    result = split_and_join(line)\n",
    "    print(result)"
   ]
  },
  {
   "cell_type": "markdown",
   "id": "ca1db55e",
   "metadata": {},
   "source": [
    "### What's Your Name"
   ]
  },
  {
   "cell_type": "code",
   "execution_count": 21,
   "id": "b2af9b9e",
   "metadata": {},
   "outputs": [
    {
     "name": "stdout",
     "output_type": "stream",
     "text": [
      "Hello T L! You just delved into python.\n"
     ]
    }
   ],
   "source": [
    "def print_full_name(a, b):\n",
    "\n",
    "    # What's Your Name? in Python - HackerRank Solution START\n",
    "    b = b+\"!\"\n",
    "    print(\"Hello\",a, b,\"You just delved into python.\");\n",
    "print_full_name('T','L')"
   ]
  },
  {
   "cell_type": "markdown",
   "id": "0a72b909",
   "metadata": {},
   "source": [
    "### Mutations"
   ]
  },
  {
   "cell_type": "code",
   "execution_count": 23,
   "id": "3a63baca",
   "metadata": {},
   "outputs": [
    {
     "name": "stdout",
     "output_type": "stream",
     "text": [
      "Inputt\n",
      "5 .\n",
      "Input.\n"
     ]
    }
   ],
   "source": [
    "def mutate_string(string, position, character):\n",
    "    l = list(string)\n",
    "    l[position] = character;\n",
    "    string = ''.join(l);\n",
    "    return string\n",
    "\n",
    "if __name__ == '__main__':\n",
    "    s = input()\n",
    "    i, c = input().split()\n",
    "    s_new = mutate_string(s, int(i), c)\n",
    "    print(s_new)"
   ]
  },
  {
   "cell_type": "markdown",
   "id": "02c4759b",
   "metadata": {},
   "source": [
    "### String Validators"
   ]
  },
  {
   "cell_type": "code",
   "execution_count": null,
   "id": "bdb4683e",
   "metadata": {},
   "outputs": [],
   "source": [
    "def fun1(s):\n",
    "    for i in range(len(s)):\n",
    "        if(s[i].isalnum()):\n",
    "            return True;\n",
    "            break;\n",
    "    return False;\n",
    "        \n",
    "def fun2(s):\n",
    "    for i in range(len(s)):\n",
    "        if(s[i].isalpha()):\n",
    "            return True;\n",
    "            break;\n",
    "    return False;\n",
    "\n",
    "def fun3(s):\n",
    "    for i in range(len(s)):\n",
    "        if(s[i].isdigit()):\n",
    "            return True;\n",
    "            break;\n",
    "    return False;\n",
    "\n",
    "def fun4(s):\n",
    "    for i in range(len(s)):\n",
    "        if(s[i].islower()):\n",
    "            return True;\n",
    "            break;\n",
    "    return False; \n",
    "     \n",
    "def fun5(s):\n",
    "    for i in range(len(s)):\n",
    "        if(s[i].isupper()):\n",
    "            return True;\n",
    "            break;\n",
    "    return False;\n",
    " \n",
    "# String Validators in Python - HackerRank Solution END \n",
    "    \n",
    "if __name__ == '__main__':\n",
    "    s = input()\n",
    "    \n",
    "    # String Validators in Python - HackerRank Solution START\n",
    "    flagalphanum = fun1(s)\n",
    "    alphabetical = fun2(s)\n",
    "    digits = fun3(s)\n",
    "    lowercase = fun4(s)\n",
    "    uppercase = fun5(s)\n",
    "    print(flagalphanum)\n",
    "    print(alphabetical)\n",
    "    print(digits)\n",
    "    print(lowercase)\n",
    "    print(uppercase)"
   ]
  },
  {
   "cell_type": "markdown",
   "id": "a69c4baa",
   "metadata": {},
   "source": [
    "### Find the string"
   ]
  },
  {
   "cell_type": "code",
   "execution_count": null,
   "id": "ec117f42",
   "metadata": {},
   "outputs": [],
   "source": [
    "def count_substring(string, sub_string):\n",
    "    # Find a string in Python - Hacker Rank Solution START\n",
    "    count = 0\n",
    "    for i in range(len(string)-len(sub_string)+1):\n",
    "        if (string[i:i+len(sub_string)] == sub_string):\n",
    "            count += 1\n",
    "    return count\n",
    "    # Find a string in Python - HackerRank Solution END\n",
    "if __name__ == '__main__':\n",
    "    string = raw_input().strip()\n",
    "    sub_string = raw_input().strip()\n",
    "    \n",
    "    count = count_substring(string, sub_string)\n",
    "    print count"
   ]
  },
  {
   "cell_type": "markdown",
   "id": "be20072a",
   "metadata": {},
   "source": [
    "### Merge the tools"
   ]
  },
  {
   "cell_type": "code",
   "execution_count": null,
   "id": "b29c51f7",
   "metadata": {},
   "outputs": [],
   "source": [
    "from collections import OrderedDict\n",
    "def merge_the_tools(string, k):\n",
    "    # your code goes here\n",
    "    strlen = len(string)\n",
    "    for i in range(0,strlen,k):\n",
    "        print(''.join(OrderedDict.fromkeys(string[i:i + k])))\n",
    "# Merge the Tools in python - Hacker Rank Solution END\n",
    "if __name__ == '__main__':\n",
    "    string, k = input(), int(input())\n",
    "    merge_the_tools(string, k)"
   ]
  },
  {
   "cell_type": "markdown",
   "id": "3f0177e7",
   "metadata": {},
   "source": [
    "### The Minion game"
   ]
  },
  {
   "cell_type": "code",
   "execution_count": null,
   "id": "cf8af90e",
   "metadata": {},
   "outputs": [],
   "source": [
    "def minion_game(string):\n",
    "    # your code goes here\n",
    "    # The Minion Game in Python - Hacker Rank Solution START\n",
    "    player1 = 0;\n",
    "    player2 = 0;\n",
    "    str_len = len(string)\n",
    "    for i in range(str_len):\n",
    "        if s[i] in \"AEIOU\":\n",
    "            player1 += (str_len)-i\n",
    "        else :\n",
    "            player2 += (str_len)-i\n",
    "    \n",
    "    if player1 > player2:\n",
    "        print(\"Kevin\", player1)\n",
    "    elif player1 < player2:\n",
    "        print(\"Stuart\",player2)\n",
    "    elif player1 == player2:\n",
    "        print(\"Draw\")\n",
    "    else :\n",
    "        print(\"Draw\")\n",
    "    # The Minion Game in Python - Hacker Rank Solution END\n",
    "\n",
    "if __name__ == '__main__':\n",
    "    s = input()\n",
    "    minion_game(s)"
   ]
  },
  {
   "cell_type": "markdown",
   "id": "a4baf3c7",
   "metadata": {},
   "source": [
    "### Capitalize"
   ]
  },
  {
   "cell_type": "code",
   "execution_count": null,
   "id": "32508f45",
   "metadata": {},
   "outputs": [],
   "source": [
    "import math\n",
    "import os\n",
    "import random\n",
    "import re\n",
    "import sys\n",
    "\n",
    "# Complete the solve function below.\n",
    "def solve(s):\n",
    "\n",
    "    # Capitalize in Python - HackerRank Solution START\n",
    "    for i in s.split():\n",
    "        s = s.replace(i,i.capitalize())\n",
    "    return s\n",
    "    # Capitalize in Python - HackerRank Solution END\n",
    "\n",
    "if __name__ == '__main__':\n",
    "    fptr = open(os.environ['OUTPUT_PATH'], 'w')\n",
    "\n",
    "    s = input()\n",
    "\n",
    "    result = solve(s)\n",
    "\n",
    "    fptr.write(result + '\\n')\n",
    "\n",
    "    fptr.close()"
   ]
  },
  {
   "cell_type": "markdown",
   "id": "a3a35d02",
   "metadata": {},
   "source": [
    "### Alphabet Rangoli"
   ]
  },
  {
   "cell_type": "code",
   "execution_count": null,
   "id": "a683f6b5",
   "metadata": {},
   "outputs": [],
   "source": [
    "def print_rangoli(size):\n",
    "    # your code goes here\n",
    "    # Alphabet Rangoli in Python - HackerRank Solution START\n",
    "    width  = size*4-3\n",
    "    string = ''\n",
    "\n",
    "    for i in range(1,size+1):\n",
    "        for j in range(0,i):\n",
    "            string += chr(96+size-j)\n",
    "            if len(string) < width :\n",
    "                string += '-'\n",
    "        for k in range(i-1,0,-1):    \n",
    "            string += chr(97+size-k)\n",
    "            if len(string) < width :\n",
    "                string += '-'\n",
    "        print(string.center(width,'-'))\n",
    "        string = ''\n",
    "\n",
    "    for i in range(size-1,0,-1):\n",
    "        string = ''\n",
    "        for j in range(0,i):\n",
    "            string += chr(96+size-j)\n",
    "            if len(string) < width :\n",
    "                string += '-'\n",
    "        for k in range(i-1,0,-1):\n",
    "            string += chr(97+size-k)\n",
    "            if len(string) < width :\n",
    "                string += '-'\n",
    "        print(string.center(width,'-'))\n",
    "        \n",
    "    # Alphabet Rangoli in Python - HackerRank Solution END\n",
    "\n",
    "if __name__ == '__main__':\n",
    "    n = int(input())\n",
    "    print_rangoli(n)"
   ]
  },
  {
   "cell_type": "markdown",
   "id": "dc9e338b",
   "metadata": {},
   "source": [
    "### String Formatting"
   ]
  },
  {
   "cell_type": "code",
   "execution_count": null,
   "id": "af0269d5",
   "metadata": {},
   "outputs": [],
   "source": [
    "def print_formatted(number):\n",
    "    # your code goes here\n",
    "    l1 = len(bin(number)[2:])\n",
    "   \n",
    "    for i in range(1,number+1):\n",
    "        print(str(i).rjust(l1,' '),end=\" \")\n",
    "        print(oct(i)[2:].rjust(l1,' '),end=\" \")\n",
    "        print(((hex(i)[2:]).upper()).rjust(l1,' '),end=\" \")\n",
    "        print(bin(i)[2:].rjust(l1,' '),end=\" \")\n",
    "        print(\"\")\n",
    "\n",
    "if __name__ == '__main__':\n",
    "    n = int(input())\n",
    "    print_formatted(n)"
   ]
  },
  {
   "cell_type": "markdown",
   "id": "21b63cfa",
   "metadata": {},
   "source": [
    "### Designer Doormat"
   ]
  },
  {
   "cell_type": "code",
   "execution_count": null,
   "id": "c7c1a3df",
   "metadata": {},
   "outputs": [],
   "source": [
    "N, M = map(int, input().split())\n",
    "for i in range(1, N, 2):\n",
    "    print(str('.|.' * i).center(M, '-'))\n",
    "print('WELCOME'.center(M, '-'))\n",
    "for i in range(N-2, -1, -2):\n",
    "    print(str('.|.' * i).center(M, '-'))"
   ]
  },
  {
   "cell_type": "markdown",
   "id": "cadb503c",
   "metadata": {},
   "source": [
    "### Text wrap"
   ]
  },
  {
   "cell_type": "code",
   "execution_count": null,
   "id": "1e9baf53",
   "metadata": {},
   "outputs": [],
   "source": [
    "import textwrap\n",
    "\n",
    "def wrap(string, max_width):\n",
    "    return textwrap.fill(string,max_width)\n",
    "\n",
    "if __name__ == '__main__':\n",
    "    string, max_width = input(), int(input())\n",
    "    result = wrap(string, max_width)\n",
    "    print(result)"
   ]
  },
  {
   "cell_type": "markdown",
   "id": "b98e78c7",
   "metadata": {},
   "source": [
    "### Text alignment"
   ]
  },
  {
   "cell_type": "code",
   "execution_count": null,
   "id": "2eb01659",
   "metadata": {},
   "outputs": [],
   "source": [
    "thickness = int(input()) #This must be an odd number\n",
    "c = 'H'\n",
    "\n",
    "#Top Cone\n",
    "# replace  ______ To rjust |  ______ To  ljust\n",
    "for i in range(thickness):\n",
    "    print((c*i).rjust(thickness-1)+c+(c*i).ljust(thickness-1))\n",
    "\n",
    "#Top Pillars\n",
    "# replace ______ To center |  ______ To center\n",
    "for i in range(thickness+1):\n",
    "    print((c*thickness).center(thickness*2)+(c*thickness).center(thickness*6))\n",
    "\n",
    "#Middle Belt\n",
    "# replace ______ To center\n",
    "for i in range((thickness+1)//2):\n",
    "    print((c*thickness*5).center(thickness*6))    \n",
    "\n",
    "#Bottom Pillars\n",
    "# replace ______ To center |  ______ To center\n",
    "for i in range(thickness+1):\n",
    "    print((c*thickness).center(thickness*2)+(c*thickness).center(thickness*6))    \n",
    "\n",
    "#Bottom Cone\n",
    "# replace ______ To rjust |  ______ To ljust |  ______ To rjust\n",
    "for i in range(thickness):\n",
    "    print(((c*(thickness-i-1)).rjust(thickness)+c+(c*(thickness-i-1)).ljust(thickness)).rjust(thickness*6))\n"
   ]
  },
  {
   "cell_type": "markdown",
   "id": "979925f4",
   "metadata": {},
   "source": [
    "## task-5 regex"
   ]
  },
  {
   "cell_type": "markdown",
   "id": "8f9bd86d",
   "metadata": {},
   "source": [
    "### Detect Floating Point Number"
   ]
  },
  {
   "cell_type": "code",
   "execution_count": 1,
   "id": "b4f3350e",
   "metadata": {},
   "outputs": [
    {
     "name": "stdout",
     "output_type": "stream",
     "text": [
      "1\n",
      "56\n",
      "False\n"
     ]
    }
   ],
   "source": [
    "import re\n",
    "for i in range(int(input())):\n",
    "    print(re.search(r'^([-\\+])?\\d*\\.\\d+$', input()) is not None)"
   ]
  },
  {
   "cell_type": "markdown",
   "id": "c2d07623",
   "metadata": {},
   "source": [
    "### re.split()"
   ]
  },
  {
   "cell_type": "code",
   "execution_count": 3,
   "id": "129fa946",
   "metadata": {},
   "outputs": [
    {
     "name": "stdout",
     "output_type": "stream",
     "text": [
      " vcbbjghj m,njhg,nb,.jjf\n",
      " vcbbjghj m\n",
      "njhg\n",
      "nb\n",
      "jjf\n"
     ]
    }
   ],
   "source": [
    "regex_pattern = r\"[.,]+\" # Do not delete 'r'.\n",
    "\n",
    "import re\n",
    "print(\"\\n\".join(re.split(regex_pattern, input())))"
   ]
  },
  {
   "cell_type": "markdown",
   "id": "8bfaa7e3",
   "metadata": {},
   "source": [
    "### Group(), Groups() & Groupdict()\n"
   ]
  },
  {
   "cell_type": "code",
   "execution_count": 4,
   "id": "66b5086e",
   "metadata": {},
   "outputs": [
    {
     "name": "stdout",
     "output_type": "stream",
     "text": [
      "gxxfddhdxfddfhgfgf\n",
      "x\n"
     ]
    }
   ],
   "source": [
    "import re\n",
    "\n",
    "expression=r\"([a-zA-Z0-9])\\1+\"\n",
    "\n",
    "m = re.search(expression,input())\n",
    "\n",
    "if m:\n",
    "    print(m.group(1))\n",
    "else:\n",
    "    print(-1)"
   ]
  },
  {
   "cell_type": "markdown",
   "id": "31ca9f93",
   "metadata": {},
   "source": [
    "### Re.findall() & Re.finditer()\n"
   ]
  },
  {
   "cell_type": "code",
   "execution_count": 7,
   "id": "61e235f9",
   "metadata": {},
   "outputs": [
    {
     "name": "stdout",
     "output_type": "stream",
     "text": [
      "rabcdeefgyYhFjkIoomnpOeorteeeeet\n",
      "ee\n",
      "Ioo\n",
      "Oeo\n",
      "eeeee\n"
     ]
    }
   ],
   "source": [
    "import re\n",
    "\n",
    "Storage = re.findall(r'(?<=[qwrtypsdfghjklzxcvbnm])([aeiou]{2,})(?=[qwrtypsdfghjklzxcvbnm])', input().strip(), re.IGNORECASE)\n",
    "\n",
    "if Storage:\n",
    "    for i in Storage:\n",
    "        print(i)\n",
    "else:\n",
    "    print(-1)"
   ]
  },
  {
   "cell_type": "markdown",
   "id": "267f2f58",
   "metadata": {},
   "source": [
    "### Re.start() & Re.end()"
   ]
  },
  {
   "cell_type": "code",
   "execution_count": 8,
   "id": "44003b50",
   "metadata": {},
   "outputs": [
    {
     "name": "stdout",
     "output_type": "stream",
     "text": [
      "zxfgdfxzxfg\n",
      "jxzfdgzdxfgh\n",
      "(-1, -1)\n"
     ]
    }
   ],
   "source": [
    "import re\n",
    "\n",
    "string = input()\n",
    "substring = input()\n",
    "\n",
    "pattern = re.compile(substring)\n",
    "match = pattern.search(string)\n",
    "\n",
    "if not match: \n",
    "    print('(-1, -1)')\n",
    "    \n",
    "while match:\n",
    "    print('({0}, {1})'.format(match.start(), match.end() - 1))\n",
    "    match = pattern.search(string, match.start() + 1)"
   ]
  },
  {
   "cell_type": "code",
   "execution_count": null,
   "id": "766d3926",
   "metadata": {},
   "outputs": [],
   "source": []
  }
 ],
 "metadata": {
  "kernelspec": {
   "display_name": "Python 3",
   "language": "python",
   "name": "python3"
  },
  "language_info": {
   "codemirror_mode": {
    "name": "ipython",
    "version": 3
   },
   "file_extension": ".py",
   "mimetype": "text/x-python",
   "name": "python",
   "nbconvert_exporter": "python",
   "pygments_lexer": "ipython3",
   "version": "3.8.8"
  }
 },
 "nbformat": 4,
 "nbformat_minor": 5
}
